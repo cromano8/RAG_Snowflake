{
 "metadata": {
  "kernelspec": {
   "display_name": "Python 3",
   "language": "python",
   "name": "python3"
  },
  "language_info": {
   "codemirror_mode": {
    "name": "ipython",
    "version": 3
   },
   "file_extension": ".py",
   "mimetype": "text/x-python",
   "name": "python",
   "nbconvert_exporter": "python",
   "pygments_lexer": "ipython3",
   "version": "3.10.13"
  }
 },
 "nbformat_minor": 2,
 "nbformat": 4,
 "cells": [
  {
   "cell_type": "code",
   "execution_count": 1,
   "metadata": {
    "name": "Packages",
    "language": "python",
    "collapsed": false
   },
   "outputs": [],
   "source": "from langchain.text_splitter import RecursiveCharacterTextSplitter\nimport pandas as pd\nfrom PyPDF2 import PdfFileReader\nfrom io import BytesIO\nfrom snowflake.snowpark import types as T\nfrom snowflake.snowpark.files import SnowflakeFile\nfrom snowflake.snowpark.types import StringType\nfrom snowflake.snowpark.types import StringType, StructField, StructType\nimport streamlit as st\n\nfrom snowflake.snowpark.context import get_active_session\nsession = get_active_session()",
   "id": "e8397044-2f34-4f76-8909-a17f0ffc6ea0"
  },
  {
   "cell_type": "code",
   "id": "147c0397-e954-4510-9787-3ec282d8a37b",
   "metadata": {
    "language": "python",
    "name": "cell1",
    "collapsed": false,
    "codeCollapsed": false
   },
   "outputs": [],
   "source": "st.image(\"https://raw.githubusercontent.com/cromano8/RAG_Snowflake/main/images/RAG_Arch.png\")",
   "execution_count": null
  },
  {
   "cell_type": "code",
   "execution_count": 11,
   "metadata": {
    "name": "PDF_Reader_Function",
    "language": "python",
    "collapsed": false
   },
   "outputs": [],
   "source": [
    "def readpdf(file_path):\n",
    "    whole_text = \"\"\n",
    "    with SnowflakeFile.open(file_path, 'rb') as file:\n",
    "        f = BytesIO(file.readall())\n",
    "        pdf_reader = PdfFileReader(f)\n",
    "        whole_text = \"\"\n",
    "        for page in pdf_reader.pages:\n",
    "            whole_text += page.extract_text()\n",
    "    return whole_text"
   ],
   "id": "bef25ba5-b8f2-46d0-864f-b08e5b691cb1"
  },
  {
   "cell_type": "code",
   "execution_count": 12,
   "metadata": {
    "name": "UDF_Registration",
    "language": "python",
    "collapsed": false,
    "codeCollapsed": false
   },
   "outputs": [
    {
     "data": {
      "text/plain": [
       "<snowflake.snowpark.udf.UserDefinedFunction at 0x7fd9a123cac0>"
      ]
     },
     "execution_count": 12,
     "metadata": {},
     "output_type": "execute_result"
    }
   ],
   "source": [
    "#Register the UDF. \n",
    "session.udf.register(\n",
    "    func = readpdf\n",
    "  , return_type = StringType()\n",
    "  , input_types = [StringType()]\n",
    "  , is_permanent = True\n",
    "  , name = 'SNOWPARK_PDF'\n",
    "  , replace = True\n",
    "  , packages=['snowflake-snowpark-python','pypdf2','PyCryptodome']\n",
    "  , stage_location = 'RAG'\n",
    ")"
   ],
   "id": "cb0f2a32-1229-4620-9382-8df31cb52525"
  },
  {
   "cell_type": "code",
   "id": "0b468ff2-5ec4-47ea-8ccb-32a99df0471b",
   "metadata": {
    "language": "python",
    "name": "pdf_text_diagram",
    "collapsed": false,
    "codeCollapsed": false
   },
   "outputs": [],
   "source": "st.image( \"https://raw.githubusercontent.com/cromano8/RAG_Snowflake/main/images/Extract_Text.png\" )",
   "execution_count": null
  },
  {
   "cell_type": "code",
   "execution_count": 15,
   "metadata": {
    "name": "Create_Raw_Text_Table",
    "language": "sql",
    "collapsed": false
   },
   "outputs": [
    {
     "data": {
      "text/plain": [
       "[Row(status='Table RAW_TEXT successfully created.')]"
      ]
     },
     "execution_count": 15,
     "metadata": {},
     "output_type": "execute_result"
    }
   ],
   "source": "CREATE OR REPLACE TABLE RAW_TEXT AS\nSELECT\n    relative_path\n    , file_url\n    , snowpark_pdf(build_scoped_file_url(@RAG, relative_path)) as raw_text\nfrom directory(@RAG)",
   "id": "ef260803-1128-489a-99cc-c04e26b222fa"
  },
  {
   "cell_type": "code",
   "execution_count": 16,
   "metadata": {
    "name": "show_pdfs_and_text",
    "language": "sql",
    "collapsed": false
   },
   "outputs": [
    {
     "name": "stdout",
     "output_type": "stream",
     "text": [
      "---------------------------------------------------------------------------------------------------------------------------------\n",
      "|\"RELATIVE_PATH\"      |\"FILE_URL\"                                          |\"RAW_TEXT\"                                          |\n",
      "---------------------------------------------------------------------------------------------------------------------------------\n",
      "|Grant_and_Grant.pdf  |https://xwb80589.snowflakecomputing.com/api/fil...  |Evolution of CharacterDisplacement in Darwin’s ...  |\n",
      "|                     |                                                    |Peter R. Grant*and B. Rosemary GrantCompetitor ...  |\n",
      "|                     |                                                    |Character displacement (1,2) is an evolu-tionar...  |\n",
      "|                     |                                                    |2) has been referredto as the classical case of...  |\n",
      "|                     |                                                    |Department of Ecology and Evolutionary Biology,...  |\n",
      "|                     |                                                    |26030.979,PG 0.0001). The reduction inG. fortis...  |\n",
      "|                     |                                                    |2103.912,PG0.05). Data were obtained byobservat...  |\n",
      "|                     |                                                    |YearNSmall Medium LargeG. fortis1977 216 0.7310...  |\n",
      "|                     |                                                    |14 JULY 2006 VOL 313SCIENCEwww.sciencemag.org 2...  |\n",
      "|                     |                                                    |bill(billsize) was a selected trait in both sex...  |\n",
      "|                     |                                                    |bill(bill shape) was not selected ineither. The...  |\n",
      "|                     |                                                    |Fig. 1.Large-beakedG. fortis(A) andG. magnirost...  |\n",
      "|                     |                                                    |billof adultG. fortis(sexes combined) in theyea...  |\n",
      "|                     |                                                    |REPORTS                                             |\n",
      "|                     |                                                    |www.sciencemag.orgSCIENCEVOL 313 14 JULY 2006 2...  |\n",
      "|                     |                                                    |bill) of the 2005 generationmeasured in 2006 wa...  |\n",
      "|                     |                                                    |17604.844,PG 0.0001). The difference between ge...  |\n",
      "|                     |                                                    |References and Notes                                |\n",
      "|                     |                                                    |1. W. L. Brown Jr., E. O. Wilson, Syst. Zool.5,...  |\n",
      "|                     |                                                    |Supporting Online Material                          |\n",
      "|                     |                                                    |www.sciencemag.org/cgi/content/full/313/5784/22...  |\n",
      "|                     |                                                    |Table 2.Selection differentials forG. fortisin ...  |\n",
      "|                     |                                                    |2004 1977Males Females Males FemalesWeight –0.6...  |\n",
      "|                     |                                                    |14 JULY 2006 VOL 313SCIENCEwww.sciencemag.org 226   |\n",
      "---------------------------------------------------------------------------------------------------------------------------------\n",
      "\n"
     ]
    }
   ],
   "source": "select * from RAW_TEXT;",
   "id": "a5378fed-5954-4a37-ae90-64ae9bf2ce01"
  },
  {
   "cell_type": "code",
   "id": "69f3986e-f7b4-40f3-8271-dab36ce25a79",
   "metadata": {
    "language": "sql",
    "name": "my_tokens_too_big",
    "collapsed": false
   },
   "outputs": [],
   "source": "--Optional : This will fail due to tokens exceeding limit, which means we need to chunk!\nSELECT\nSNOWFLAKE.CORTEX.COMPLETE('llama2-70b-chat',CONCAT('summarise the following text',raw_text)) \nFROM\nRAW_TEXT\nLIMIT 1;",
   "execution_count": null
  },
  {
   "cell_type": "markdown",
   "id": "eef6befd-4a7c-45d6-84a1-cd4a21998913",
   "metadata": {
    "name": "chunking",
    "collapsed": false
   },
   "source": "A note on chunking\n-----\nChunking is the process of splitting a large body of text into smaller 'chunks' whilst attempting to keep as much relevant information as possible. Make the chunks too small and you run the risk of removing key information that the model requires to answer the question. Too large and it may be harder to retreive the correct body of text from the vector search - or spend tokens excessively.\n\nThere are many strategies towards chunking. Eg - pass the most relevant, top n relevant chunks, or pass the most relevent chunk + the chunk either side of that one. Play around and see what works for your use case!"
  },
  {
   "cell_type": "code",
   "id": "b17ce88a-96e5-41d9-b8ed-8d17a1856ddd",
   "metadata": {
    "language": "python",
    "name": "chunk_image",
    "collapsed": false,
    "codeCollapsed": true
   },
   "outputs": [],
   "source": "st.image( \"https://raw.githubusercontent.com/cromano8/RAG_Snowflake/main/images/Chunk.text.png\" )",
   "execution_count": null
  },
  {
   "cell_type": "code",
   "execution_count": 17,
   "metadata": {
    "name": "chunk_function",
    "language": "python",
    "collapsed": false
   },
   "outputs": [],
   "source": "class text_chunker:\n\n    def process(self,text):        \n        text_raw=[]\n        text_raw.append(text) \n        \n        text_splitter = RecursiveCharacterTextSplitter(\n            separators = [\"\\n\"], # Define an appropriate separator. New line is good typically!\n            chunk_size = 1000, #Adjust this as you see fit\n            chunk_overlap  = 100, #This let's text have some form of overlap. Useful for keeping chunks contextual\n            length_function = len,\n            add_start_index = True #Optional but useful if you'd like to feed the chunk before/after\n        )\n    \n        chunks = text_splitter.create_documents(text_raw)\n        df = pd.DataFrame(chunks, columns=['chunks','meta'])\n        \n        yield from df.itertuples(index=False, name=None)",
   "id": "4eee8eb0-22f3-4e1a-8492-52205f13d80e"
  },
  {
   "cell_type": "code",
   "execution_count": 18,
   "metadata": {
    "name": "udtf_chunk_registration",
    "language": "python",
    "collapsed": false,
    "codeCollapsed": false
   },
   "outputs": [
    {
     "data": {
      "text/plain": [
       "<snowflake.snowpark.udtf.UserDefinedTableFunction at 0x7fd9a1359990>"
      ]
     },
     "execution_count": 18,
     "metadata": {},
     "output_type": "execute_result"
    }
   ],
   "source": [
    "#Register the UDTF\n",
    "\n",
    "schema = StructType([\n",
    "     StructField(\"chunk\", StringType()),\n",
    "    StructField(\"meta\", StringType()),\n",
    " ])\n",
    "\n",
    "session.udtf.register( \n",
    "    handler = text_chunker,\n",
    "    output_schema= schema, \n",
    "    input_types = [StringType()] , \n",
    "    is_permanent = True , \n",
    "    name = 'CHUNK_TEXT' , \n",
    "    replace = True , \n",
    "    packages=['pandas','langchain'], stage_location = 'RAG')"
   ],
   "id": "8cc2d449-972b-4ae3-9004-dbdd03b6fb45"
  },
  {
   "cell_type": "code",
   "execution_count": 20,
   "metadata": {
    "name": "create_chunk_text",
    "language": "sql",
    "collapsed": false
   },
   "outputs": [
    {
     "data": {
      "text/plain": [
       "[Row(status='Table CHUNK_TEXT successfully created.')]"
      ]
     },
     "execution_count": 20,
     "metadata": {},
     "output_type": "execute_result"
    }
   ],
   "source": "CREATE OR REPLACE TABLE CHUNK_TEXT AS\nSELECT\n        relative_path,\n        func.*\n    FROM raw_text AS raw,\n         TABLE(chunk_text(raw_text)) as func;",
   "id": "190de822-a1ea-4a11-934a-a20baa0c936c"
  },
  {
   "cell_type": "code",
   "id": "eb008ae1-18f0-4e47-8d42-b0ed543c1290",
   "metadata": {
    "language": "sql",
    "name": "show_chunks",
    "collapsed": false
   },
   "outputs": [],
   "source": "select * from chunk_text;",
   "execution_count": null
  },
  {
   "cell_type": "code",
   "id": "f7ddc011-fa5c-415d-ac91-9a9e4db4ff45",
   "metadata": {
    "language": "sql",
    "name": "add_vector_data_type",
    "collapsed": false
   },
   "outputs": [],
   "source": "ALTER TABLE chunk_text ADD COLUMN vec VECTOR(FLOAT, 768);",
   "execution_count": null
  },
  {
   "cell_type": "code",
   "id": "074a18ec-0265-4554-a4e2-5668072ce010",
   "metadata": {
    "language": "python",
    "name": "Embedding_image",
    "collapsed": false,
    "codeCollapsed": true
   },
   "outputs": [],
   "source": "st.image( \"https://raw.githubusercontent.com/cromano8/RAG_Snowflake/main/images/Embed_text.png\" )",
   "execution_count": null
  },
  {
   "cell_type": "code",
   "id": "acc2339f-42ce-4635-81d9-14dde169117a",
   "metadata": {
    "language": "python",
    "name": "Vector_Functions",
    "collapsed": false,
    "codeCollapsed": true
   },
   "outputs": [],
   "source": "st.image( \"https://raw.githubusercontent.com/cromano8/RAG_Snowflake/main/images/embedding_functions.png\" )",
   "execution_count": null
  },
  {
   "cell_type": "code",
   "id": "368fe6dd-20ce-486b-8ec6-84bdc6136e0e",
   "metadata": {
    "language": "sql",
    "name": "show_updated_chunks",
    "collapsed": false
   },
   "outputs": [],
   "source": "UPDATE chunk_text SET vec = SNOWFLAKE.CORTEX.EMBED_TEXT('e5-base-v2', chunk);",
   "execution_count": null
  },
  {
   "cell_type": "code",
   "id": "2d181bcb-4358-4d7d-858f-89ab00256b9d",
   "metadata": {
    "language": "sql",
    "name": "show_embeddings",
    "collapsed": false
   },
   "outputs": [],
   "source": "select * from chunk_text\nlimit 5;",
   "execution_count": null
  },
  {
   "cell_type": "code",
   "id": "326c9254-14aa-4530-971a-f836d72e0188",
   "metadata": {
    "language": "sql",
    "name": "LLM_Without_RAG",
    "collapsed": false,
    "codeCollapsed": false
   },
   "outputs": [],
   "source": "select snowflake.cortex.complete('mistral-7b','What percent of snowflake customers process unstructured data?') as mixtral_respone;",
   "execution_count": null
  },
  {
   "cell_type": "code",
   "id": "51f9b206-6202-4b0a-9498-6cd5b8ccb160",
   "metadata": {
    "language": "python",
    "name": "Cortex_Search",
    "collapsed": false,
    "codeCollapsed": true
   },
   "outputs": [],
   "source": "st.image( \"https://raw.githubusercontent.com/cromano8/RAG_Snowflake/main/images/rag_query.png\" )",
   "execution_count": null
  },
  {
   "cell_type": "code",
   "id": "9b51296e-93a3-47ab-a8b5-f786642a1389",
   "metadata": {
    "language": "sql",
    "name": "vector_distance_sf",
    "collapsed": false
   },
   "outputs": [],
   "source": "select relative_path,chunk, vector_l2_distance(\n            snowflake.cortex.embed_text('e5-base-v2', \n            'What % of snowflake customers process unstructured data?'\n            ), vec\n            ) as distance from chunk_text \n            order by distance limit 5;",
   "execution_count": null
  },
  {
   "cell_type": "code",
   "id": "6e4ded26-7a7a-4ee7-b2be-8e584bec2c36",
   "metadata": {
    "language": "sql",
    "name": "vector_dis_panthers",
    "collapsed": false
   },
   "outputs": [],
   "source": "select relative_path,chunk, vector_l2_distance(\n            snowflake.cortex.embed_text('e5-base-v2', \n            'What data does the carolina panthers collect about me?'\n            ), vec\n            ) as distance from chunk_text \n            order by distance limit 5;",
   "execution_count": null
  },
  {
   "cell_type": "code",
   "id": "976b2926-d86a-4c07-93e2-408bac2ccafd",
   "metadata": {
    "language": "sql",
    "name": "result_with_rag",
    "collapsed": false,
    "codeCollapsed": false
   },
   "outputs": [],
   "source": "select snowflake.cortex.complete(\n    'mistral-7b', \n    concat( \n        'Answer the question based on the context. Be concise.','Context: ',\n        (select array_agg(*)::varchar from (\n            (select chunk from chunk_text \n            order by vector_l2_distance(\n            snowflake.cortex.embed_text('e5-base-v2', \n            'What % of snowflake customers process unstructured data?'\n            ), vec\n            ) limit 5))\n            ),\n        'Question: ', \n        'What % of snowflake customers process unstructured data?',\n        'Answer: '\n    )\n) as response;",
   "execution_count": null
  },
  {
   "cell_type": "code",
   "id": "12b0c4f3-44a0-4a34-bd67-2a14f8d70f28",
   "metadata": {
    "language": "python",
    "name": "SiS",
    "collapsed": false,
    "codeCollapsed": true
   },
   "outputs": [],
   "source": "st.image( \"https://raw.githubusercontent.com/cromano8/RAG_Snowflake/main/images/sis.png\" )",
   "execution_count": null
  },
  {
   "cell_type": "code",
   "id": "962bcba5-e8e4-453a-85fb-504ffd1d8994",
   "metadata": {
    "language": "python",
    "name": "Streamlit_app",
    "collapsed": false,
    "codeCollapsed": true
   },
   "outputs": [],
   "source": "st.title(\"Ask Your Data Anything :snowflake:\")\nst.write(\"\"\"Built using end-to-end RAG in Snowflake with Cortex functions.\"\"\")\n\ndocs = session.table('chunk_text').select('RELATIVE_PATH').distinct().collect()\ndoc = st.selectbox('Select you document', docs)\n\nmodel = st.selectbox('Select your model:',('mistral-large','mistral-7b','mixtral-8x7b','llama2-chat-70b','gemma-7b'))\n\nprompt = st.text_input(\"Enter prompt\", placeholder=\"What % of customers use Snowflake to process unstructured data?\", label_visibility=\"collapsed\")\n\nquest_q = f'''\nSELECT SNOWFLAKE.CORTEX.COMPLETE(\n    '{model}',\n        'In 2 sentences or less, you are a pilot flying a 1967 cessna 172h answer the following question: - {prompt}'\n) as response\n'''\n\nquest_q2 = f'''\nselect snowflake.cortex.complete(\n    '{model}', \n    concat( \n        'Answer the question based on the context. Be concise.','Context: ',\n        (select array_agg(*)::varchar from (\n            (select chunk from chunk_text \n            where RELATIVE_PATH = '{doc}'\n            order by vector_l2_distance(\n            snowflake.cortex.embed_text('e5-base-v2', \n            '{prompt}'\n            ), vec\n            ) limit 5))\n            ),\n        'Question: ', \n        '{prompt}',\n        'Answer: '\n    )\n) as response;\n'''\n\nif prompt:\n    df_query = session.sql(quest_q).to_pandas()\n    st.header('Result without RAG and chunking')\n    st.write(df_query['RESPONSE'][0])\n    st.header('Result with RAG and chunking')\n    df_query = session.sql(quest_q2).to_pandas()\n    # df_query['PROMPT'] = prompt\n    st.write(df_query['RESPONSE'][0])\n    # df = session.create_dataframe(df_query)\n    # df.write.save_as_table(\"RAG_INPUTS\", mode=\"append\")\n    # df = session.table('RAG_INPUTS')\n    # st.dataframe(df)",
   "execution_count": null
  }
 ]
}